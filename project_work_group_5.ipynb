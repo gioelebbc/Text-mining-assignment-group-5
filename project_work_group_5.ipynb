{
  "cells": [
    {
      "cell_type": "markdown",
      "metadata": {
        "id": "fzuf3cVHi6TS"
      },
      "source": [
        "# Text Mining Project Work (Group 5)\n",
        "\n",
        "**Text Classification and Sentiment Analysis**\n",
        "\n",
        "_Prof. Gianluca Moro, Dott. Ing. Nicola Piscaglia – DISI, University of Bologna_\n",
        "\n",
        "**Bologna Business School** - Alma Mater Studiorum Università di Bologna"
      ]
    },
    {
      "cell_type": "markdown",
      "metadata": {
        "id": "WOBjMeN9i6TV"
      },
      "source": [
        "## Instructions\n",
        "- The provided exercises must be executed by the students of Group 5\n",
        "- At the end, the file must contain all the required results (as code cell outputs) along with all the commands necessary to reproduce them; \n",
        "- The function of every command or group of related commands\n",
        "must be documented clearly and concisely. \n",
        "- The submission deadline is the 1st July 2022.\n",
        "- When finished, one team member will send the notebook file (having .ipynb extension) via mail (using your BBS email account) to the teacher (nicola.piscaglia@bbs.unibo.it) indicating “[BBS Teamwork] Your last names” as subject, also keeping an own copy of the file for safety.\n",
        "- You are allowed to consult the teaching material and to search the Web for quick reference. \n",
        "- If still in doubt about anything, ask the teacher\n",
        "- It is severely NOT allowed to communicate with other teams. Ask the teacher for any clarification about the exercises.\n",
        "- Each correctly developed point counts 2/30"
      ]
    },
    {
      "cell_type": "markdown",
      "metadata": {
        "id": "9APLha11i6TX"
      },
      "source": [
        "## Setup\n",
        "\n",
        "The following cell contains some necessary imports"
      ]
    },
    {
      "cell_type": "code",
      "execution_count": 5,
      "metadata": {
        "colab": {
          "base_uri": "https://localhost:8080/"
        },
        "id": "sQSnHTwOi6TZ",
        "outputId": "a146a441-a7e6-4285-c324-7ad5dd713e0f"
      },
      "outputs": [],
      "source": [
        "import numpy as np\n",
        "import pandas as pd\n",
        "import gzip\n",
        "import json\n",
        "import nltk\n",
        "from sklearn.model_selection import train_test_split\n",
        "from sklearn.feature_extraction.text import TfidfVectorizer\n",
        "from sklearn.svm import SVC\n",
        "from imblearn.under_sampling import RandomUnderSampler\n",
        "from sklearn.metrics import confusion_matrix, ConfusionMatrixDisplay\n",
        "import os\n",
        "from urllib.request import urlretrieve\n",
        "from statsmodels.stats.contingency_tables import mcnemar"
      ]
    },
    {
      "cell_type": "markdown",
      "metadata": {
        "id": "5dIq4xWzi6Th"
      },
      "source": [
        "Run the following to download the necessary files"
      ]
    },
    {
      "cell_type": "code",
      "execution_count": 6,
      "metadata": {
        "id": "GEUzfMXAi6Ti"
      },
      "outputs": [],
      "source": [
        "def download(file, url):\n",
        "    if not os.path.exists(file):\n",
        "        urlretrieve(url, file)"
      ]
    },
    {
      "cell_type": "code",
      "execution_count": 7,
      "metadata": {
        "id": "Rw7H0NU2z9dw"
      },
      "outputs": [],
      "source": [
        "download(\"Gift_Cards.json.gz\", \"https://www.dropbox.com/s/c87cjds263jt3sb/Gift_Cards.json.gz?dl=1\")"
      ]
    },
    {
      "cell_type": "code",
      "execution_count": 8,
      "metadata": {
        "id": "GvVE-DgxCqux"
      },
      "outputs": [],
      "source": [
        "download(\"Magazine_Subscriptions.json.gz\", \"https://www.dropbox.com/s/g6om8q8c8pvirw8/Magazine_Subscriptions.json.gz?dl=1\")"
      ]
    },
    {
      "cell_type": "code",
      "execution_count": 9,
      "metadata": {
        "colab": {
          "base_uri": "https://localhost:8080/"
        },
        "id": "T94vizGRi6Tq",
        "outputId": "a7dad42f-7d93-4dcf-9dd5-2aef4daeff5c"
      },
      "outputs": [
        {
          "name": "stderr",
          "output_type": "stream",
          "text": [
            "[nltk_data] Downloading package punkt to /Users/gioel/nltk_data...\n",
            "[nltk_data]   Package punkt is already up-to-date!\n"
          ]
        },
        {
          "data": {
            "text/plain": [
              "True"
            ]
          },
          "execution_count": 9,
          "metadata": {},
          "output_type": "execute_result"
        }
      ],
      "source": [
        "nltk.download(\"punkt\")"
      ]
    },
    {
      "cell_type": "markdown",
      "metadata": {
        "id": "HefuXgg9i6Tv"
      },
      "source": [
        "## Exercises\n",
        "\n",
        "1) We provide in the `Gift_Cards.json.gz` file a dataset composed by several reviews posted on Amazon.com about Gift cards products. \n",
        "Each review is labeled with a score between 1 and 5 stars (represented by the ```overall``` feature).\n",
        "\n",
        "The text of each review is represented by the ```reviewText``` feature which is going to be our input data along with the ```overall``` one.\n",
        "\n",
        "Load 100000 random reviews putting it in a new Pandas dataframe."
      ]
    },
    {
      "cell_type": "code",
      "execution_count": 10,
      "metadata": {},
      "outputs": [],
      "source": [
        "df = pd.read_json('Gift_cards.json.gz',lines = True,compression= 'gzip')\n",
        "df = df.sample(n = 100000)\n",
        "df = df.reset_index()\n"
      ]
    },
    {
      "cell_type": "markdown",
      "metadata": {
        "id": "YejpY-z8mMEf"
      },
      "source": [
        "2) Print the dataset rows number and visualize the first 5 rows."
      ]
    },
    {
      "cell_type": "code",
      "execution_count": 11,
      "metadata": {},
      "outputs": [
        {
          "data": {
            "text/html": [
              "<div>\n",
              "<style scoped>\n",
              "    .dataframe tbody tr th:only-of-type {\n",
              "        vertical-align: middle;\n",
              "    }\n",
              "\n",
              "    .dataframe tbody tr th {\n",
              "        vertical-align: top;\n",
              "    }\n",
              "\n",
              "    .dataframe thead th {\n",
              "        text-align: right;\n",
              "    }\n",
              "</style>\n",
              "<table border=\"1\" class=\"dataframe\">\n",
              "  <thead>\n",
              "    <tr style=\"text-align: right;\">\n",
              "      <th></th>\n",
              "      <th>index</th>\n",
              "      <th>overall</th>\n",
              "      <th>vote</th>\n",
              "      <th>verified</th>\n",
              "      <th>reviewTime</th>\n",
              "      <th>reviewerID</th>\n",
              "      <th>asin</th>\n",
              "      <th>style</th>\n",
              "      <th>reviewerName</th>\n",
              "      <th>reviewText</th>\n",
              "      <th>summary</th>\n",
              "      <th>unixReviewTime</th>\n",
              "      <th>image</th>\n",
              "    </tr>\n",
              "  </thead>\n",
              "  <tbody>\n",
              "    <tr>\n",
              "      <th>0</th>\n",
              "      <td>31463</td>\n",
              "      <td>5</td>\n",
              "      <td>NaN</td>\n",
              "      <td>True</td>\n",
              "      <td>01 7, 2013</td>\n",
              "      <td>A1YO5TU01S6XBL</td>\n",
              "      <td>B004RD9ACA</td>\n",
              "      <td>NaN</td>\n",
              "      <td>Lori S</td>\n",
              "      <td>Very easy to do and nice that you can put it i...</td>\n",
              "      <td>gift card</td>\n",
              "      <td>1357516800</td>\n",
              "      <td>NaN</td>\n",
              "    </tr>\n",
              "    <tr>\n",
              "      <th>1</th>\n",
              "      <td>101270</td>\n",
              "      <td>5</td>\n",
              "      <td>NaN</td>\n",
              "      <td>True</td>\n",
              "      <td>01 8, 2015</td>\n",
              "      <td>A151SOYKNBCXWV</td>\n",
              "      <td>B00ISCEAMG</td>\n",
              "      <td>NaN</td>\n",
              "      <td>Hawaiian Sister</td>\n",
              "      <td>I ordered this because it was free &amp; who doesn...</td>\n",
              "      <td>Good idea</td>\n",
              "      <td>1420675200</td>\n",
              "      <td>NaN</td>\n",
              "    </tr>\n",
              "    <tr>\n",
              "      <th>2</th>\n",
              "      <td>19910</td>\n",
              "      <td>5</td>\n",
              "      <td>NaN</td>\n",
              "      <td>True</td>\n",
              "      <td>04 6, 2018</td>\n",
              "      <td>A256L5K68UXBYH</td>\n",
              "      <td>B004LLIKVU</td>\n",
              "      <td>{'Gift Amount:': ' 50'}</td>\n",
              "      <td>kate bujor</td>\n",
              "      <td>An easy way to send a gift to relatives abroad...</td>\n",
              "      <td>So easy and hassle-free</td>\n",
              "      <td>1522972800</td>\n",
              "      <td>NaN</td>\n",
              "    </tr>\n",
              "    <tr>\n",
              "      <th>3</th>\n",
              "      <td>103924</td>\n",
              "      <td>5</td>\n",
              "      <td>NaN</td>\n",
              "      <td>True</td>\n",
              "      <td>10 10, 2016</td>\n",
              "      <td>A2FB181U8NTPPU</td>\n",
              "      <td>B00JDQJZWG</td>\n",
              "      <td>{'Gift Amount:': ' 75'}</td>\n",
              "      <td>Murielle</td>\n",
              "      <td>Everyone loved the cute tin for our grand daug...</td>\n",
              "      <td>Five Stars</td>\n",
              "      <td>1476057600</td>\n",
              "      <td>NaN</td>\n",
              "    </tr>\n",
              "    <tr>\n",
              "      <th>4</th>\n",
              "      <td>42243</td>\n",
              "      <td>1</td>\n",
              "      <td>NaN</td>\n",
              "      <td>True</td>\n",
              "      <td>09 16, 2015</td>\n",
              "      <td>A2R82GWR3MUL6K</td>\n",
              "      <td>B0066AZGD4</td>\n",
              "      <td>NaN</td>\n",
              "      <td>Learning Ray</td>\n",
              "      <td>I wanted to buy a S$100 card but ended up buyi...</td>\n",
              "      <td>I wanted to buy a S$100 card but ended up ...</td>\n",
              "      <td>1442361600</td>\n",
              "      <td>NaN</td>\n",
              "    </tr>\n",
              "  </tbody>\n",
              "</table>\n",
              "</div>"
            ],
            "text/plain": [
              "    index  overall vote  verified   reviewTime      reviewerID        asin  \\\n",
              "0   31463        5  NaN      True   01 7, 2013  A1YO5TU01S6XBL  B004RD9ACA   \n",
              "1  101270        5  NaN      True   01 8, 2015  A151SOYKNBCXWV  B00ISCEAMG   \n",
              "2   19910        5  NaN      True   04 6, 2018  A256L5K68UXBYH  B004LLIKVU   \n",
              "3  103924        5  NaN      True  10 10, 2016  A2FB181U8NTPPU  B00JDQJZWG   \n",
              "4   42243        1  NaN      True  09 16, 2015  A2R82GWR3MUL6K  B0066AZGD4   \n",
              "\n",
              "                     style     reviewerName  \\\n",
              "0                      NaN           Lori S   \n",
              "1                      NaN  Hawaiian Sister   \n",
              "2  {'Gift Amount:': ' 50'}       kate bujor   \n",
              "3  {'Gift Amount:': ' 75'}         Murielle   \n",
              "4                      NaN     Learning Ray   \n",
              "\n",
              "                                          reviewText  \\\n",
              "0  Very easy to do and nice that you can put it i...   \n",
              "1  I ordered this because it was free & who doesn...   \n",
              "2  An easy way to send a gift to relatives abroad...   \n",
              "3  Everyone loved the cute tin for our grand daug...   \n",
              "4  I wanted to buy a S$100 card but ended up buyi...   \n",
              "\n",
              "                                         summary  unixReviewTime image  \n",
              "0                                      gift card      1357516800   NaN  \n",
              "1                                      Good idea      1420675200   NaN  \n",
              "2                        So easy and hassle-free      1522972800   NaN  \n",
              "3                                     Five Stars      1476057600   NaN  \n",
              "4  I wanted to buy a S$100 card but ended up ...      1442361600   NaN  "
            ]
          },
          "execution_count": 11,
          "metadata": {},
          "output_type": "execute_result"
        }
      ],
      "source": [
        "df.head()"
      ]
    },
    {
      "cell_type": "markdown",
      "metadata": {
        "id": "hooSUzWZmRJM"
      },
      "source": [
        "3) Undersample the data by `overall` feature in order to obtain a class-balanced dataset.\n",
        "\n"
      ]
    },
    {
      "cell_type": "code",
      "execution_count": 12,
      "metadata": {},
      "outputs": [],
      "source": [
        "rus = RandomUnderSampler(random_state=42)\n",
        "df,_ = rus.fit_resample(df, df[\"overall\"])"
      ]
    },
    {
      "cell_type": "markdown",
      "metadata": {
        "id": "jbaY-6hxnY5L"
      },
      "source": [
        "4) Cast the `reviewText` column to unicode string\n",
        "\n"
      ]
    },
    {
      "cell_type": "code",
      "execution_count": 13,
      "metadata": {},
      "outputs": [],
      "source": [
        "df[\"reviewText\"] = df[\"reviewText\"].values.astype('U')"
      ]
    },
    {
      "cell_type": "markdown",
      "metadata": {
        "id": "_7uRHPMRS2oj"
      },
      "source": [
        "**5)** Select from data only the features named ```reviewText``` and ```overall``` putting them in a dataframe\n",
        "\n",
        "\n",
        "\n"
      ]
    },
    {
      "cell_type": "code",
      "execution_count": 14,
      "metadata": {},
      "outputs": [],
      "source": [
        "df = df[['reviewText', 'overall']]"
      ]
    },
    {
      "cell_type": "markdown",
      "metadata": {
        "id": "jLk7gkZji6UB"
      },
      "source": [
        "**6)** Verify the distribution of the number of stars"
      ]
    },
    {
      "cell_type": "code",
      "execution_count": 15,
      "metadata": {},
      "outputs": [
        {
          "data": {
            "text/plain": [
              "1    1103\n",
              "2    1103\n",
              "3    1103\n",
              "4    1103\n",
              "5    1103\n",
              "Name: overall, dtype: int64"
            ]
          },
          "execution_count": 15,
          "metadata": {},
          "output_type": "execute_result"
        }
      ],
      "source": [
        "df[\"overall\"].value_counts()"
      ]
    },
    {
      "cell_type": "markdown",
      "metadata": {
        "id": "h7TL47guxDsK"
      },
      "source": [
        "**7)** Remove from the dataframe the reviews rated with 3 stars."
      ]
    },
    {
      "cell_type": "code",
      "execution_count": 16,
      "metadata": {},
      "outputs": [],
      "source": [
        "df = df[df['overall']!= 3]"
      ]
    },
    {
      "cell_type": "code",
      "execution_count": 17,
      "metadata": {},
      "outputs": [
        {
          "data": {
            "text/plain": [
              "array([1, 2, 4, 5])"
            ]
          },
          "execution_count": 17,
          "metadata": {},
          "output_type": "execute_result"
        }
      ],
      "source": [
        "df['overall'].unique()"
      ]
    },
    {
      "cell_type": "markdown",
      "metadata": {
        "id": "c5JNI0iWi6UH"
      },
      "source": [
        "**8)** Add a `label` column to the DataFrame whose value is `\"pos\"` for reviews with 4 or 5 stars and `\"neg\"` for reviews with 1 or 2 stars."
      ]
    },
    {
      "cell_type": "code",
      "execution_count": 18,
      "metadata": {},
      "outputs": [
        {
          "data": {
            "text/html": [
              "<div>\n",
              "<style scoped>\n",
              "    .dataframe tbody tr th:only-of-type {\n",
              "        vertical-align: middle;\n",
              "    }\n",
              "\n",
              "    .dataframe tbody tr th {\n",
              "        vertical-align: top;\n",
              "    }\n",
              "\n",
              "    .dataframe thead th {\n",
              "        text-align: right;\n",
              "    }\n",
              "</style>\n",
              "<table border=\"1\" class=\"dataframe\">\n",
              "  <thead>\n",
              "    <tr style=\"text-align: right;\">\n",
              "      <th></th>\n",
              "      <th>reviewText</th>\n",
              "      <th>overall</th>\n",
              "      <th>label</th>\n",
              "    </tr>\n",
              "  </thead>\n",
              "  <tbody>\n",
              "    <tr>\n",
              "      <th>0</th>\n",
              "      <td>DOESNT ACTIVATE would never by one again. AMAZ...</td>\n",
              "      <td>1</td>\n",
              "      <td>neg</td>\n",
              "    </tr>\n",
              "    <tr>\n",
              "      <th>1</th>\n",
              "      <td>The box is ripped and looks used.  Embarrassin...</td>\n",
              "      <td>1</td>\n",
              "      <td>neg</td>\n",
              "    </tr>\n",
              "    <tr>\n",
              "      <th>2</th>\n",
              "      <td>My son did not receive this gift from me.</td>\n",
              "      <td>1</td>\n",
              "      <td>neg</td>\n",
              "    </tr>\n",
              "    <tr>\n",
              "      <th>3</th>\n",
              "      <td>My daughter wanted to buy an app for my grandd...</td>\n",
              "      <td>1</td>\n",
              "      <td>neg</td>\n",
              "    </tr>\n",
              "    <tr>\n",
              "      <th>4</th>\n",
              "      <td>Received an empty envelope! Still trying to fi...</td>\n",
              "      <td>1</td>\n",
              "      <td>neg</td>\n",
              "    </tr>\n",
              "  </tbody>\n",
              "</table>\n",
              "</div>"
            ],
            "text/plain": [
              "                                          reviewText  overall label\n",
              "0  DOESNT ACTIVATE would never by one again. AMAZ...        1   neg\n",
              "1  The box is ripped and looks used.  Embarrassin...        1   neg\n",
              "2          My son did not receive this gift from me.        1   neg\n",
              "3  My daughter wanted to buy an app for my grandd...        1   neg\n",
              "4  Received an empty envelope! Still trying to fi...        1   neg"
            ]
          },
          "execution_count": 18,
          "metadata": {},
          "output_type": "execute_result"
        }
      ],
      "source": [
        "def mapToLabel(value):\n",
        "  if value >= 4:\n",
        "    return \"pos\"\n",
        "  elif value <= 2:\n",
        "    return \"neg\"\n",
        "\n",
        "df[\"label\"] = df[\"overall\"].apply(mapToLabel)\n",
        "\n",
        "df.head() "
      ]
    },
    {
      "cell_type": "markdown",
      "metadata": {
        "id": "gk3O4Igei6UK"
      },
      "source": [
        "**9)** Split the dataset randomly into a training set with 80% of data and a test set with the remaining 20%, stratifying the split by the `label` variable"
      ]
    },
    {
      "cell_type": "code",
      "execution_count": 19,
      "metadata": {},
      "outputs": [
        {
          "name": "stdout",
          "output_type": "stream",
          "text": [
            "training set shape: (3529,)\n",
            "Test set shape: (883,)\n"
          ]
        }
      ],
      "source": [
        "y = df[\"label\"]\n",
        "X = df[\"reviewText\"]\n",
        "X_train, X_test, y_train, y_test = train_test_split(X, y, test_size=0.2, random_state=42, stratify=y)\n",
        "\n",
        "print(\"training set shape: \" + str(X_train.shape))\n",
        "print(\"Test set shape: \" + str(X_test.shape))"
      ]
    },
    {
      "cell_type": "markdown",
      "metadata": {
        "id": "BLD_buBZi6U6"
      },
      "source": [
        "**10)** Create a tf.idf vector space model from training reviews excluding words appearing in less than 7 documents and using only unigrams. Then, extract the document-term matrix for them."
      ]
    },
    {
      "cell_type": "code",
      "execution_count": 35,
      "metadata": {},
      "outputs": [],
      "source": [
        "vect = TfidfVectorizer(min_df=7, ngram_range=(1,1))\n",
        "train_dtm = vect.fit_transform(X_train).toarray()"
      ]
    },
    {
      "cell_type": "code",
      "execution_count": 36,
      "metadata": {},
      "outputs": [],
      "source": [
        "test_dtm = vect.transform(X_test).toarray()"
      ]
    },
    {
      "cell_type": "markdown",
      "metadata": {
        "id": "F7Xy6Oymi6VC"
      },
      "source": [
        "**11)** Train a Support Vector Machine of your choice on the training reviews with a regularization parameter equals to 5, using the representation created above"
      ]
    },
    {
      "cell_type": "code",
      "execution_count": 91,
      "metadata": {},
      "outputs": [],
      "source": [
        "from sklearn import preprocessing\n",
        "\n",
        "le = preprocessing.LabelEncoder()\n",
        "le.fit(y_train)\n",
        "y_train = le.transform(y_train)\n",
        "y_test = le.transform(y_test)\n",
        "\n"
      ]
    },
    {
      "cell_type": "code",
      "execution_count": 25,
      "metadata": {},
      "outputs": [],
      "source": [
        "def make_target(labels):\n",
        "    return pd.DataFrame({\n",
        "        \"pos\": labels == \"pos\", # if the label is \"pos\" then return 1 else return 0\n",
        "        \"neg\": labels == \"neg\" # if the label is \"neg\" then return 1 else 0\n",
        "    }).astype(int)"
      ]
    },
    {
      "cell_type": "code",
      "execution_count": 39,
      "metadata": {},
      "outputs": [],
      "source": [
        "train_target = make_target(y_train)\n",
        "test_target = make_target(y_test)"
      ]
    },
    {
      "cell_type": "code",
      "execution_count": 92,
      "metadata": {},
      "outputs": [
        {
          "data": {
            "text/html": [
              "<style>#sk-container-id-7 {color: black;background-color: white;}#sk-container-id-7 pre{padding: 0;}#sk-container-id-7 div.sk-toggleable {background-color: white;}#sk-container-id-7 label.sk-toggleable__label {cursor: pointer;display: block;width: 100%;margin-bottom: 0;padding: 0.3em;box-sizing: border-box;text-align: center;}#sk-container-id-7 label.sk-toggleable__label-arrow:before {content: \"▸\";float: left;margin-right: 0.25em;color: #696969;}#sk-container-id-7 label.sk-toggleable__label-arrow:hover:before {color: black;}#sk-container-id-7 div.sk-estimator:hover label.sk-toggleable__label-arrow:before {color: black;}#sk-container-id-7 div.sk-toggleable__content {max-height: 0;max-width: 0;overflow: hidden;text-align: left;background-color: #f0f8ff;}#sk-container-id-7 div.sk-toggleable__content pre {margin: 0.2em;color: black;border-radius: 0.25em;background-color: #f0f8ff;}#sk-container-id-7 input.sk-toggleable__control:checked~div.sk-toggleable__content {max-height: 200px;max-width: 100%;overflow: auto;}#sk-container-id-7 input.sk-toggleable__control:checked~label.sk-toggleable__label-arrow:before {content: \"▾\";}#sk-container-id-7 div.sk-estimator input.sk-toggleable__control:checked~label.sk-toggleable__label {background-color: #d4ebff;}#sk-container-id-7 div.sk-label input.sk-toggleable__control:checked~label.sk-toggleable__label {background-color: #d4ebff;}#sk-container-id-7 input.sk-hidden--visually {border: 0;clip: rect(1px 1px 1px 1px);clip: rect(1px, 1px, 1px, 1px);height: 1px;margin: -1px;overflow: hidden;padding: 0;position: absolute;width: 1px;}#sk-container-id-7 div.sk-estimator {font-family: monospace;background-color: #f0f8ff;border: 1px dotted black;border-radius: 0.25em;box-sizing: border-box;margin-bottom: 0.5em;}#sk-container-id-7 div.sk-estimator:hover {background-color: #d4ebff;}#sk-container-id-7 div.sk-parallel-item::after {content: \"\";width: 100%;border-bottom: 1px solid gray;flex-grow: 1;}#sk-container-id-7 div.sk-label:hover label.sk-toggleable__label {background-color: #d4ebff;}#sk-container-id-7 div.sk-serial::before {content: \"\";position: absolute;border-left: 1px solid gray;box-sizing: border-box;top: 0;bottom: 0;left: 50%;z-index: 0;}#sk-container-id-7 div.sk-serial {display: flex;flex-direction: column;align-items: center;background-color: white;padding-right: 0.2em;padding-left: 0.2em;position: relative;}#sk-container-id-7 div.sk-item {position: relative;z-index: 1;}#sk-container-id-7 div.sk-parallel {display: flex;align-items: stretch;justify-content: center;background-color: white;position: relative;}#sk-container-id-7 div.sk-item::before, #sk-container-id-7 div.sk-parallel-item::before {content: \"\";position: absolute;border-left: 1px solid gray;box-sizing: border-box;top: 0;bottom: 0;left: 50%;z-index: -1;}#sk-container-id-7 div.sk-parallel-item {display: flex;flex-direction: column;z-index: 1;position: relative;background-color: white;}#sk-container-id-7 div.sk-parallel-item:first-child::after {align-self: flex-end;width: 50%;}#sk-container-id-7 div.sk-parallel-item:last-child::after {align-self: flex-start;width: 50%;}#sk-container-id-7 div.sk-parallel-item:only-child::after {width: 0;}#sk-container-id-7 div.sk-dashed-wrapped {border: 1px dashed gray;margin: 0 0.4em 0.5em 0.4em;box-sizing: border-box;padding-bottom: 0.4em;background-color: white;}#sk-container-id-7 div.sk-label label {font-family: monospace;font-weight: bold;display: inline-block;line-height: 1.2em;}#sk-container-id-7 div.sk-label-container {text-align: center;}#sk-container-id-7 div.sk-container {/* jupyter's `normalize.less` sets `[hidden] { display: none; }` but bootstrap.min.css set `[hidden] { display: none !important; }` so we also need the `!important` here to be able to override the default hidden behavior on the sphinx rendered scikit-learn.org. See: https://github.com/scikit-learn/scikit-learn/issues/21755 */display: inline-block !important;position: relative;}#sk-container-id-7 div.sk-text-repr-fallback {display: none;}</style><div id=\"sk-container-id-7\" class=\"sk-top-container\"><div class=\"sk-text-repr-fallback\"><pre>SVC(C=5, kernel=&#x27;linear&#x27;)</pre><b>In a Jupyter environment, please rerun this cell to show the HTML representation or trust the notebook. <br />On GitHub, the HTML representation is unable to render, please try loading this page with nbviewer.org.</b></div><div class=\"sk-container\" hidden><div class=\"sk-item\"><div class=\"sk-estimator sk-toggleable\"><input class=\"sk-toggleable__control sk-hidden--visually\" id=\"sk-estimator-id-7\" type=\"checkbox\" checked><label for=\"sk-estimator-id-7\" class=\"sk-toggleable__label sk-toggleable__label-arrow\">SVC</label><div class=\"sk-toggleable__content\"><pre>SVC(C=5, kernel=&#x27;linear&#x27;)</pre></div></div></div></div></div>"
            ],
            "text/plain": [
              "SVC(C=5, kernel='linear')"
            ]
          },
          "execution_count": 92,
          "metadata": {},
          "output_type": "execute_result"
        }
      ],
      "source": [
        "clf = SVC(C = 5, kernel = 'linear')\n",
        "clf.fit(train_dtm, y_train)\n"
      ]
    },
    {
      "cell_type": "markdown",
      "metadata": {
        "id": "K1gSb6gDi6VM"
      },
      "source": [
        "**12)** Verify the accuracy of the classifier on the test set and try to maximize it tuning the Support Vector Machine kernel and regularization factor."
      ]
    },
    {
      "cell_type": "code",
      "execution_count": 94,
      "metadata": {},
      "outputs": [
        {
          "data": {
            "text/plain": [
              "0.8408577878103838"
            ]
          },
          "execution_count": 94,
          "metadata": {},
          "output_type": "execute_result"
        }
      ],
      "source": [
        "clf.score(test_dtm, y_test)"
      ]
    },
    {
      "cell_type": "code",
      "execution_count": 98,
      "metadata": {},
      "outputs": [],
      "source": [
        "from sklearn.model_selection import GridSearchCV\n",
        "params = {\n",
        "    'C' : [1, 2, 3, 4, 5, 10, 15, 20, 25, 30, 35],\n",
        "    'kernel': ['linear', 'poly', 'rbf', 'sigmoid']\n",
        "    }\n",
        "grid = GridSearchCV(SVC(), params, scoring = 'accuracy', cv = 5)\n",
        "grid.fit(train_dtm, y_train)\n",
        "params = grid.best_params_"
      ]
    },
    {
      "cell_type": "code",
      "execution_count": 101,
      "metadata": {},
      "outputs": [
        {
          "data": {
            "text/html": [
              "<style>#sk-container-id-8 {color: black;background-color: white;}#sk-container-id-8 pre{padding: 0;}#sk-container-id-8 div.sk-toggleable {background-color: white;}#sk-container-id-8 label.sk-toggleable__label {cursor: pointer;display: block;width: 100%;margin-bottom: 0;padding: 0.3em;box-sizing: border-box;text-align: center;}#sk-container-id-8 label.sk-toggleable__label-arrow:before {content: \"▸\";float: left;margin-right: 0.25em;color: #696969;}#sk-container-id-8 label.sk-toggleable__label-arrow:hover:before {color: black;}#sk-container-id-8 div.sk-estimator:hover label.sk-toggleable__label-arrow:before {color: black;}#sk-container-id-8 div.sk-toggleable__content {max-height: 0;max-width: 0;overflow: hidden;text-align: left;background-color: #f0f8ff;}#sk-container-id-8 div.sk-toggleable__content pre {margin: 0.2em;color: black;border-radius: 0.25em;background-color: #f0f8ff;}#sk-container-id-8 input.sk-toggleable__control:checked~div.sk-toggleable__content {max-height: 200px;max-width: 100%;overflow: auto;}#sk-container-id-8 input.sk-toggleable__control:checked~label.sk-toggleable__label-arrow:before {content: \"▾\";}#sk-container-id-8 div.sk-estimator input.sk-toggleable__control:checked~label.sk-toggleable__label {background-color: #d4ebff;}#sk-container-id-8 div.sk-label input.sk-toggleable__control:checked~label.sk-toggleable__label {background-color: #d4ebff;}#sk-container-id-8 input.sk-hidden--visually {border: 0;clip: rect(1px 1px 1px 1px);clip: rect(1px, 1px, 1px, 1px);height: 1px;margin: -1px;overflow: hidden;padding: 0;position: absolute;width: 1px;}#sk-container-id-8 div.sk-estimator {font-family: monospace;background-color: #f0f8ff;border: 1px dotted black;border-radius: 0.25em;box-sizing: border-box;margin-bottom: 0.5em;}#sk-container-id-8 div.sk-estimator:hover {background-color: #d4ebff;}#sk-container-id-8 div.sk-parallel-item::after {content: \"\";width: 100%;border-bottom: 1px solid gray;flex-grow: 1;}#sk-container-id-8 div.sk-label:hover label.sk-toggleable__label {background-color: #d4ebff;}#sk-container-id-8 div.sk-serial::before {content: \"\";position: absolute;border-left: 1px solid gray;box-sizing: border-box;top: 0;bottom: 0;left: 50%;z-index: 0;}#sk-container-id-8 div.sk-serial {display: flex;flex-direction: column;align-items: center;background-color: white;padding-right: 0.2em;padding-left: 0.2em;position: relative;}#sk-container-id-8 div.sk-item {position: relative;z-index: 1;}#sk-container-id-8 div.sk-parallel {display: flex;align-items: stretch;justify-content: center;background-color: white;position: relative;}#sk-container-id-8 div.sk-item::before, #sk-container-id-8 div.sk-parallel-item::before {content: \"\";position: absolute;border-left: 1px solid gray;box-sizing: border-box;top: 0;bottom: 0;left: 50%;z-index: -1;}#sk-container-id-8 div.sk-parallel-item {display: flex;flex-direction: column;z-index: 1;position: relative;background-color: white;}#sk-container-id-8 div.sk-parallel-item:first-child::after {align-self: flex-end;width: 50%;}#sk-container-id-8 div.sk-parallel-item:last-child::after {align-self: flex-start;width: 50%;}#sk-container-id-8 div.sk-parallel-item:only-child::after {width: 0;}#sk-container-id-8 div.sk-dashed-wrapped {border: 1px dashed gray;margin: 0 0.4em 0.5em 0.4em;box-sizing: border-box;padding-bottom: 0.4em;background-color: white;}#sk-container-id-8 div.sk-label label {font-family: monospace;font-weight: bold;display: inline-block;line-height: 1.2em;}#sk-container-id-8 div.sk-label-container {text-align: center;}#sk-container-id-8 div.sk-container {/* jupyter's `normalize.less` sets `[hidden] { display: none; }` but bootstrap.min.css set `[hidden] { display: none !important; }` so we also need the `!important` here to be able to override the default hidden behavior on the sphinx rendered scikit-learn.org. See: https://github.com/scikit-learn/scikit-learn/issues/21755 */display: inline-block !important;position: relative;}#sk-container-id-8 div.sk-text-repr-fallback {display: none;}</style><div id=\"sk-container-id-8\" class=\"sk-top-container\"><div class=\"sk-text-repr-fallback\"><pre>SVC(C=1)</pre><b>In a Jupyter environment, please rerun this cell to show the HTML representation or trust the notebook. <br />On GitHub, the HTML representation is unable to render, please try loading this page with nbviewer.org.</b></div><div class=\"sk-container\" hidden><div class=\"sk-item\"><div class=\"sk-estimator sk-toggleable\"><input class=\"sk-toggleable__control sk-hidden--visually\" id=\"sk-estimator-id-8\" type=\"checkbox\" checked><label for=\"sk-estimator-id-8\" class=\"sk-toggleable__label sk-toggleable__label-arrow\">SVC</label><div class=\"sk-toggleable__content\"><pre>SVC(C=1)</pre></div></div></div></div></div>"
            ],
            "text/plain": [
              "SVC(C=1)"
            ]
          },
          "execution_count": 101,
          "metadata": {},
          "output_type": "execute_result"
        }
      ],
      "source": [
        "clf = SVC(C = params['C'], kernel = params['kernel'])\n",
        "clf.fit(train_dtm, y_train)"
      ]
    },
    {
      "cell_type": "code",
      "execution_count": 102,
      "metadata": {},
      "outputs": [
        {
          "data": {
            "text/plain": [
              "0.871331828442438"
            ]
          },
          "execution_count": 102,
          "metadata": {},
          "output_type": "execute_result"
        }
      ],
      "source": [
        "clf.score(test_dtm, y_test)"
      ]
    },
    {
      "cell_type": "markdown",
      "metadata": {
        "id": "mkzzstKZpMcr"
      },
      "source": [
        "**13)** Train a Deep Learning model (excluding transformer-based models like BERT) using the document-term representation built in point 10. The usage of recurrent layers is up to you."
      ]
    },
    {
      "cell_type": "code",
      "execution_count": 37,
      "metadata": {},
      "outputs": [
        {
          "name": "stdout",
          "output_type": "stream",
          "text": [
            "Epoch 1/3\n"
          ]
        },
        {
          "name": "stderr",
          "output_type": "stream",
          "text": [
            "2022-06-27 12:50:29.742368: W tensorflow/core/platform/profile_utils/cpu_utils.cc:128] Failed to get CPU frequency: 0 Hz\n",
            "2022-06-27 12:50:30.056069: I tensorflow/core/grappler/optimizers/custom_graph_optimizer_registry.cc:113] Plugin optimizer for device_type GPU is enabled.\n"
          ]
        },
        {
          "name": "stdout",
          "output_type": "stream",
          "text": [
            "18/18 [==============================] - 1s 12ms/step - loss: 0.6925 - accuracy: 0.5203\n",
            "Epoch 2/3\n",
            "18/18 [==============================] - 0s 8ms/step - loss: 0.6875 - accuracy: 0.5645\n",
            "Epoch 3/3\n",
            "18/18 [==============================] - 0s 8ms/step - loss: 0.6799 - accuracy: 0.7070\n"
          ]
        },
        {
          "data": {
            "text/plain": [
              "<keras.callbacks.History at 0x151037f10>"
            ]
          },
          "execution_count": 37,
          "metadata": {},
          "output_type": "execute_result"
        }
      ],
      "source": [
        "from keras.models import Sequential\n",
        "from keras.layers import Dense\n",
        "\n",
        "num_terms = len(vect.get_feature_names_out()) \n",
        "\n",
        "model = Sequential([\n",
        "    Dense(256, activation=\"sigmoid\", input_dim=num_terms),\n",
        "    Dense(64, activation=\"sigmoid\"),\n",
        "    Dense(16, activation=\"sigmoid\"),\n",
        "    Dense(2, activation=\"softmax\")\n",
        "])\n",
        "model.compile(optimizer=\"adam\", loss=\"categorical_crossentropy\", metrics=[\"accuracy\"])\n",
        "\n",
        "model.fit(train_dtm, train_target,batch_size=200,epochs=3)"
      ]
    },
    {
      "cell_type": "markdown",
      "metadata": {
        "id": "DiEkWRCnabhk"
      },
      "source": [
        "14) Evaluate the model calculating the accuracy on test data. Try to maximize the model accuracy by tuning the neural network. "
      ]
    },
    {
      "cell_type": "code",
      "execution_count": 41,
      "metadata": {},
      "outputs": [
        {
          "name": "stdout",
          "output_type": "stream",
          "text": [
            "28/28 [==============================] - 0s 6ms/step - loss: 0.6724 - accuracy: 0.8335\n"
          ]
        },
        {
          "data": {
            "text/plain": [
              "[0.6723747849464417, 0.8335220813751221]"
            ]
          },
          "execution_count": 41,
          "metadata": {},
          "output_type": "execute_result"
        }
      ],
      "source": [
        "model.evaluate(test_dtm, test_target)"
      ]
    },
    {
      "cell_type": "code",
      "execution_count": 42,
      "metadata": {},
      "outputs": [],
      "source": [
        "from keras import regularizers\n",
        "\n",
        "model = Sequential([\n",
        "    Dense(256, activation=\"sigmoid\", input_dim=num_terms, kernel_regularizer=regularizers.L1L2(l1=1e-8, l2=1e-6)),\n",
        "    Dense(64, activation=\"sigmoid\"),\n",
        "    Dense(16, activation=\"sigmoid\"),\n",
        "    Dense(2, activation=\"softmax\")\n",
        "])\n",
        "model.compile(optimizer=\"adam\", loss=\"categorical_crossentropy\", metrics=[\"accuracy\"])"
      ]
    },
    {
      "cell_type": "code",
      "execution_count": 43,
      "metadata": {},
      "outputs": [
        {
          "name": "stdout",
          "output_type": "stream",
          "text": [
            "Epoch 1/10\n"
          ]
        },
        {
          "name": "stderr",
          "output_type": "stream",
          "text": [
            "2022-06-27 15:00:30.864528: I tensorflow/core/grappler/optimizers/custom_graph_optimizer_registry.cc:113] Plugin optimizer for device_type GPU is enabled.\n"
          ]
        },
        {
          "name": "stdout",
          "output_type": "stream",
          "text": [
            "18/18 [==============================] - 1s 14ms/step - loss: 0.6925 - accuracy: 0.5129\n",
            "Epoch 2/10\n",
            "18/18 [==============================] - 0s 8ms/step - loss: 0.6878 - accuracy: 0.5364\n",
            "Epoch 3/10\n",
            "18/18 [==============================] - 0s 8ms/step - loss: 0.6790 - accuracy: 0.5778\n",
            "Epoch 4/10\n",
            "18/18 [==============================] - 0s 9ms/step - loss: 0.6614 - accuracy: 0.7110\n",
            "Epoch 5/10\n",
            "18/18 [==============================] - 0s 9ms/step - loss: 0.6306 - accuracy: 0.7538\n",
            "Epoch 6/10\n",
            "18/18 [==============================] - 0s 8ms/step - loss: 0.5757 - accuracy: 0.8317\n",
            "Epoch 7/10\n",
            "18/18 [==============================] - 0s 8ms/step - loss: 0.5032 - accuracy: 0.8444\n",
            "Epoch 8/10\n",
            "18/18 [==============================] - 0s 8ms/step - loss: 0.4307 - accuracy: 0.8524\n",
            "Epoch 9/10\n",
            "18/18 [==============================] - 0s 9ms/step - loss: 0.3716 - accuracy: 0.8685\n",
            "Epoch 10/10\n",
            "18/18 [==============================] - 0s 9ms/step - loss: 0.3300 - accuracy: 0.8852\n"
          ]
        },
        {
          "data": {
            "text/plain": [
              "<keras.callbacks.History at 0x159c6fb80>"
            ]
          },
          "execution_count": 43,
          "metadata": {},
          "output_type": "execute_result"
        }
      ],
      "source": [
        "model.fit(train_dtm, train_target, batch_size=200, epochs=10)"
      ]
    },
    {
      "cell_type": "code",
      "execution_count": 44,
      "metadata": {},
      "outputs": [
        {
          "name": "stdout",
          "output_type": "stream",
          "text": [
            "17/28 [=================>............] - ETA: 0s - loss: 0.3562 - accuracy: 0.8713"
          ]
        },
        {
          "name": "stderr",
          "output_type": "stream",
          "text": [
            "2022-06-27 15:00:46.435742: I tensorflow/core/grappler/optimizers/custom_graph_optimizer_registry.cc:113] Plugin optimizer for device_type GPU is enabled.\n"
          ]
        },
        {
          "name": "stdout",
          "output_type": "stream",
          "text": [
            "28/28 [==============================] - 0s 7ms/step - loss: 0.3560 - accuracy: 0.8686\n"
          ]
        },
        {
          "data": {
            "text/plain": [
              "[0.3559566140174866, 0.8686296343803406]"
            ]
          },
          "execution_count": 44,
          "metadata": {},
          "output_type": "execute_result"
        }
      ],
      "source": [
        "model.evaluate(test_dtm, test_target)"
      ]
    },
    {
      "cell_type": "markdown",
      "metadata": {
        "id": "SiJ79SjqCVRf"
      },
      "source": [
        "15) Evaluate the DL trained model on 50000 random reviews from the dataset in `Magazine_Subscriptions.json.gz` file.\n",
        "\n",
        "Hint: you have to repeat the preprocessing steps done in the previous steps for the Gift cards reviews."
      ]
    },
    {
      "cell_type": "code",
      "execution_count": 45,
      "metadata": {},
      "outputs": [
        {
          "data": {
            "text/html": [
              "<div>\n",
              "<style scoped>\n",
              "    .dataframe tbody tr th:only-of-type {\n",
              "        vertical-align: middle;\n",
              "    }\n",
              "\n",
              "    .dataframe tbody tr th {\n",
              "        vertical-align: top;\n",
              "    }\n",
              "\n",
              "    .dataframe thead th {\n",
              "        text-align: right;\n",
              "    }\n",
              "</style>\n",
              "<table border=\"1\" class=\"dataframe\">\n",
              "  <thead>\n",
              "    <tr style=\"text-align: right;\">\n",
              "      <th></th>\n",
              "      <th>index</th>\n",
              "      <th>overall</th>\n",
              "      <th>vote</th>\n",
              "      <th>verified</th>\n",
              "      <th>reviewTime</th>\n",
              "      <th>reviewerID</th>\n",
              "      <th>asin</th>\n",
              "      <th>reviewerName</th>\n",
              "      <th>reviewText</th>\n",
              "      <th>summary</th>\n",
              "      <th>unixReviewTime</th>\n",
              "      <th>style</th>\n",
              "      <th>image</th>\n",
              "    </tr>\n",
              "  </thead>\n",
              "  <tbody>\n",
              "    <tr>\n",
              "      <th>0</th>\n",
              "      <td>81371</td>\n",
              "      <td>5</td>\n",
              "      <td>NaN</td>\n",
              "      <td>True</td>\n",
              "      <td>07 17, 2016</td>\n",
              "      <td>A19FLCEIE0MRLI</td>\n",
              "      <td>B000AIG4ES</td>\n",
              "      <td>Jess</td>\n",
              "      <td>Ordered for my husband who loves cars. He was ...</td>\n",
              "      <td>Great!</td>\n",
              "      <td>1468713600</td>\n",
              "      <td>NaN</td>\n",
              "      <td>NaN</td>\n",
              "    </tr>\n",
              "    <tr>\n",
              "      <th>1</th>\n",
              "      <td>83724</td>\n",
              "      <td>3</td>\n",
              "      <td>NaN</td>\n",
              "      <td>True</td>\n",
              "      <td>04 22, 2016</td>\n",
              "      <td>A3HH3Y7WE9Q7UN</td>\n",
              "      <td>B002NM7VNM</td>\n",
              "      <td>LA</td>\n",
              "      <td>So much more advertising than actual articles....</td>\n",
              "      <td>So much more advertising than actual articles....</td>\n",
              "      <td>1461283200</td>\n",
              "      <td>{'Format:': ' Print Magazine'}</td>\n",
              "      <td>NaN</td>\n",
              "    </tr>\n",
              "    <tr>\n",
              "      <th>2</th>\n",
              "      <td>75157</td>\n",
              "      <td>1</td>\n",
              "      <td>NaN</td>\n",
              "      <td>True</td>\n",
              "      <td>07 20, 2016</td>\n",
              "      <td>A1MX2F7Y83O9XK</td>\n",
              "      <td>B00005N7R0</td>\n",
              "      <td>lauren l.</td>\n",
              "      <td>Order at your own risk. Magazine was not as go...</td>\n",
              "      <td>Poor customer service.</td>\n",
              "      <td>1468972800</td>\n",
              "      <td>NaN</td>\n",
              "      <td>NaN</td>\n",
              "    </tr>\n",
              "    <tr>\n",
              "      <th>3</th>\n",
              "      <td>31861</td>\n",
              "      <td>5</td>\n",
              "      <td>6</td>\n",
              "      <td>True</td>\n",
              "      <td>02 15, 2014</td>\n",
              "      <td>A3LSSKZJ08O5FY</td>\n",
              "      <td>B00006KSSX</td>\n",
              "      <td>Yarnspinner13</td>\n",
              "      <td>I have been getting Piecework for years and ye...</td>\n",
              "      <td>One of my favorite fiber magazines</td>\n",
              "      <td>1392422400</td>\n",
              "      <td>{'Format:': ' Kindle Edition'}</td>\n",
              "      <td>NaN</td>\n",
              "    </tr>\n",
              "    <tr>\n",
              "      <th>4</th>\n",
              "      <td>23934</td>\n",
              "      <td>5</td>\n",
              "      <td>NaN</td>\n",
              "      <td>False</td>\n",
              "      <td>03 23, 2007</td>\n",
              "      <td>A2DJA4JZWGL1OR</td>\n",
              "      <td>B00005NIN8</td>\n",
              "      <td>Byates</td>\n",
              "      <td>I'll never subscribe any other way again.  The...</td>\n",
              "      <td>Came fast.</td>\n",
              "      <td>1174608000</td>\n",
              "      <td>NaN</td>\n",
              "      <td>NaN</td>\n",
              "    </tr>\n",
              "  </tbody>\n",
              "</table>\n",
              "</div>"
            ],
            "text/plain": [
              "   index  overall vote  verified   reviewTime      reviewerID        asin  \\\n",
              "0  81371        5  NaN      True  07 17, 2016  A19FLCEIE0MRLI  B000AIG4ES   \n",
              "1  83724        3  NaN      True  04 22, 2016  A3HH3Y7WE9Q7UN  B002NM7VNM   \n",
              "2  75157        1  NaN      True  07 20, 2016  A1MX2F7Y83O9XK  B00005N7R0   \n",
              "3  31861        5    6      True  02 15, 2014  A3LSSKZJ08O5FY  B00006KSSX   \n",
              "4  23934        5  NaN     False  03 23, 2007  A2DJA4JZWGL1OR  B00005NIN8   \n",
              "\n",
              "    reviewerName                                         reviewText  \\\n",
              "0           Jess  Ordered for my husband who loves cars. He was ...   \n",
              "1             LA  So much more advertising than actual articles....   \n",
              "2      lauren l.  Order at your own risk. Magazine was not as go...   \n",
              "3  Yarnspinner13  I have been getting Piecework for years and ye...   \n",
              "4         Byates  I'll never subscribe any other way again.  The...   \n",
              "\n",
              "                                             summary  unixReviewTime  \\\n",
              "0                                             Great!      1468713600   \n",
              "1  So much more advertising than actual articles....      1461283200   \n",
              "2                             Poor customer service.      1468972800   \n",
              "3                 One of my favorite fiber magazines      1392422400   \n",
              "4                                         Came fast.      1174608000   \n",
              "\n",
              "                            style image  \n",
              "0                             NaN   NaN  \n",
              "1  {'Format:': ' Print Magazine'}   NaN  \n",
              "2                             NaN   NaN  \n",
              "3  {'Format:': ' Kindle Edition'}   NaN  \n",
              "4                             NaN   NaN  "
            ]
          },
          "execution_count": 45,
          "metadata": {},
          "output_type": "execute_result"
        }
      ],
      "source": [
        "df_2 = pd.read_json('Magazine_Subscriptions.json.gz',lines = True,compression= 'gzip')\n",
        "df_2 = df_2.sample(n = 50000)\n",
        "df_2 = df_2.reset_index()\n",
        "df_2.head()"
      ]
    },
    {
      "cell_type": "code",
      "execution_count": 46,
      "metadata": {},
      "outputs": [
        {
          "data": {
            "text/html": [
              "<div>\n",
              "<style scoped>\n",
              "    .dataframe tbody tr th:only-of-type {\n",
              "        vertical-align: middle;\n",
              "    }\n",
              "\n",
              "    .dataframe tbody tr th {\n",
              "        vertical-align: top;\n",
              "    }\n",
              "\n",
              "    .dataframe thead th {\n",
              "        text-align: right;\n",
              "    }\n",
              "</style>\n",
              "<table border=\"1\" class=\"dataframe\">\n",
              "  <thead>\n",
              "    <tr style=\"text-align: right;\">\n",
              "      <th></th>\n",
              "      <th>index</th>\n",
              "      <th>overall</th>\n",
              "      <th>vote</th>\n",
              "      <th>verified</th>\n",
              "      <th>reviewTime</th>\n",
              "      <th>reviewerID</th>\n",
              "      <th>asin</th>\n",
              "      <th>reviewerName</th>\n",
              "      <th>reviewText</th>\n",
              "      <th>summary</th>\n",
              "      <th>unixReviewTime</th>\n",
              "      <th>style</th>\n",
              "      <th>image</th>\n",
              "    </tr>\n",
              "  </thead>\n",
              "  <tbody>\n",
              "    <tr>\n",
              "      <th>0</th>\n",
              "      <td>67527</td>\n",
              "      <td>1</td>\n",
              "      <td>7</td>\n",
              "      <td>False</td>\n",
              "      <td>02 23, 2014</td>\n",
              "      <td>A10D9F8QMOYMB1</td>\n",
              "      <td>B005ST869K</td>\n",
              "      <td>M. Davis</td>\n",
              "      <td>I don't understand this - I was looking forwar...</td>\n",
              "      <td>Digital costs more than dead tree?</td>\n",
              "      <td>1393113600</td>\n",
              "      <td>NaN</td>\n",
              "      <td>NaN</td>\n",
              "    </tr>\n",
              "    <tr>\n",
              "      <th>1</th>\n",
              "      <td>28053</td>\n",
              "      <td>1</td>\n",
              "      <td>3</td>\n",
              "      <td>True</td>\n",
              "      <td>09 9, 2016</td>\n",
              "      <td>A2G7RIPZRYDB4D</td>\n",
              "      <td>B000060MGT</td>\n",
              "      <td>Grace</td>\n",
              "      <td>Ordered in May 2016.\\nReceived in July 2016.\\n...</td>\n",
              "      <td>Ordered in May 2016. Received in July 2016. ...</td>\n",
              "      <td>1473379200</td>\n",
              "      <td>NaN</td>\n",
              "      <td>NaN</td>\n",
              "    </tr>\n",
              "    <tr>\n",
              "      <th>2</th>\n",
              "      <td>77247</td>\n",
              "      <td>1</td>\n",
              "      <td>11</td>\n",
              "      <td>False</td>\n",
              "      <td>09 13, 2003</td>\n",
              "      <td>A1YNEY755DJZUU</td>\n",
              "      <td>B00006K85A</td>\n",
              "      <td>David Young (@deepinthecode)</td>\n",
              "      <td>This magazine, while presumably well-intention...</td>\n",
              "      <td>Magazine is dangerous to the faith of Catholics</td>\n",
              "      <td>1063411200</td>\n",
              "      <td>NaN</td>\n",
              "      <td>NaN</td>\n",
              "    </tr>\n",
              "    <tr>\n",
              "      <th>3</th>\n",
              "      <td>75131</td>\n",
              "      <td>1</td>\n",
              "      <td>NaN</td>\n",
              "      <td>False</td>\n",
              "      <td>06 27, 2017</td>\n",
              "      <td>A3R7500TAKDDL3</td>\n",
              "      <td>B00005N7QS</td>\n",
              "      <td>shaheenAustin</td>\n",
              "      <td>Really not good.</td>\n",
              "      <td>Junk articles, very lacking in any real info</td>\n",
              "      <td>1498521600</td>\n",
              "      <td>{'Format:': ' Kindle Edition'}</td>\n",
              "      <td>NaN</td>\n",
              "    </tr>\n",
              "    <tr>\n",
              "      <th>4</th>\n",
              "      <td>19187</td>\n",
              "      <td>1</td>\n",
              "      <td>3</td>\n",
              "      <td>True</td>\n",
              "      <td>01 30, 2010</td>\n",
              "      <td>A1XMH5XV0F902F</td>\n",
              "      <td>B00005NIP7</td>\n",
              "      <td>L. Pham</td>\n",
              "      <td>As of today, I am still waiting to receive Tra...</td>\n",
              "      <td>Never got the magazine</td>\n",
              "      <td>1264809600</td>\n",
              "      <td>{'Format:': ' Print Magazine'}</td>\n",
              "      <td>NaN</td>\n",
              "    </tr>\n",
              "  </tbody>\n",
              "</table>\n",
              "</div>"
            ],
            "text/plain": [
              "   index  overall vote  verified   reviewTime      reviewerID        asin  \\\n",
              "0  67527        1    7     False  02 23, 2014  A10D9F8QMOYMB1  B005ST869K   \n",
              "1  28053        1    3      True   09 9, 2016  A2G7RIPZRYDB4D  B000060MGT   \n",
              "2  77247        1   11     False  09 13, 2003  A1YNEY755DJZUU  B00006K85A   \n",
              "3  75131        1  NaN     False  06 27, 2017  A3R7500TAKDDL3  B00005N7QS   \n",
              "4  19187        1    3      True  01 30, 2010  A1XMH5XV0F902F  B00005NIP7   \n",
              "\n",
              "                   reviewerName  \\\n",
              "0                      M. Davis   \n",
              "1                         Grace   \n",
              "2  David Young (@deepinthecode)   \n",
              "3                 shaheenAustin   \n",
              "4                       L. Pham   \n",
              "\n",
              "                                          reviewText  \\\n",
              "0  I don't understand this - I was looking forwar...   \n",
              "1  Ordered in May 2016.\\nReceived in July 2016.\\n...   \n",
              "2  This magazine, while presumably well-intention...   \n",
              "3                                   Really not good.   \n",
              "4  As of today, I am still waiting to receive Tra...   \n",
              "\n",
              "                                           summary  unixReviewTime  \\\n",
              "0               Digital costs more than dead tree?      1393113600   \n",
              "1  Ordered in May 2016. Received in July 2016. ...      1473379200   \n",
              "2  Magazine is dangerous to the faith of Catholics      1063411200   \n",
              "3     Junk articles, very lacking in any real info      1498521600   \n",
              "4                           Never got the magazine      1264809600   \n",
              "\n",
              "                            style image  \n",
              "0                             NaN   NaN  \n",
              "1                             NaN   NaN  \n",
              "2                             NaN   NaN  \n",
              "3  {'Format:': ' Kindle Edition'}   NaN  \n",
              "4  {'Format:': ' Print Magazine'}   NaN  "
            ]
          },
          "execution_count": 46,
          "metadata": {},
          "output_type": "execute_result"
        }
      ],
      "source": [
        "rus = RandomUnderSampler(random_state=42)\n",
        "df_2, _ = rus.fit_resample(df_2, df_2[\"overall\"])\n",
        "df_2.head()"
      ]
    },
    {
      "cell_type": "code",
      "execution_count": 47,
      "metadata": {},
      "outputs": [
        {
          "data": {
            "text/html": [
              "<div>\n",
              "<style scoped>\n",
              "    .dataframe tbody tr th:only-of-type {\n",
              "        vertical-align: middle;\n",
              "    }\n",
              "\n",
              "    .dataframe tbody tr th {\n",
              "        vertical-align: top;\n",
              "    }\n",
              "\n",
              "    .dataframe thead th {\n",
              "        text-align: right;\n",
              "    }\n",
              "</style>\n",
              "<table border=\"1\" class=\"dataframe\">\n",
              "  <thead>\n",
              "    <tr style=\"text-align: right;\">\n",
              "      <th></th>\n",
              "      <th>reviewText</th>\n",
              "      <th>overall</th>\n",
              "      <th>label</th>\n",
              "    </tr>\n",
              "  </thead>\n",
              "  <tbody>\n",
              "    <tr>\n",
              "      <th>0</th>\n",
              "      <td>I don't understand this - I was looking forwar...</td>\n",
              "      <td>1</td>\n",
              "      <td>neg</td>\n",
              "    </tr>\n",
              "    <tr>\n",
              "      <th>1</th>\n",
              "      <td>Ordered in May 2016.\\nReceived in July 2016.\\n...</td>\n",
              "      <td>1</td>\n",
              "      <td>neg</td>\n",
              "    </tr>\n",
              "    <tr>\n",
              "      <th>2</th>\n",
              "      <td>This magazine, while presumably well-intention...</td>\n",
              "      <td>1</td>\n",
              "      <td>neg</td>\n",
              "    </tr>\n",
              "    <tr>\n",
              "      <th>3</th>\n",
              "      <td>Really not good.</td>\n",
              "      <td>1</td>\n",
              "      <td>neg</td>\n",
              "    </tr>\n",
              "    <tr>\n",
              "      <th>4</th>\n",
              "      <td>As of today, I am still waiting to receive Tra...</td>\n",
              "      <td>1</td>\n",
              "      <td>neg</td>\n",
              "    </tr>\n",
              "  </tbody>\n",
              "</table>\n",
              "</div>"
            ],
            "text/plain": [
              "                                          reviewText  overall label\n",
              "0  I don't understand this - I was looking forwar...        1   neg\n",
              "1  Ordered in May 2016.\\nReceived in July 2016.\\n...        1   neg\n",
              "2  This magazine, while presumably well-intention...        1   neg\n",
              "3                                   Really not good.        1   neg\n",
              "4  As of today, I am still waiting to receive Tra...        1   neg"
            ]
          },
          "execution_count": 47,
          "metadata": {},
          "output_type": "execute_result"
        }
      ],
      "source": [
        "df_2[\"reviewText\"] = df_2[\"reviewText\"].values.astype('U')\n",
        "df_2 = df_2[[\"reviewText\", \"overall\"]]\n",
        "df_2 = df_2[df_2[\"overall\"] != 3]\n",
        "\n",
        "df_2[\"label\"] = df_2[\"overall\"].apply(mapToLabel)\n",
        "\n",
        "df_2.head() # To visualize the new df_2"
      ]
    },
    {
      "cell_type": "code",
      "execution_count": 48,
      "metadata": {},
      "outputs": [],
      "source": [
        "y = df_2[\"label\"]\n",
        "X = df_2[\"reviewText\"]\n",
        "\n",
        "#vect = TfidfVectorizer(min_df=7, ngram_range=(1,1))\n",
        "test_dtm_2 = vect.transform(X).toarray()\n",
        "test_target_2 = make_target(y)"
      ]
    },
    {
      "cell_type": "code",
      "execution_count": 49,
      "metadata": {},
      "outputs": [
        {
          "name": "stdout",
          "output_type": "stream",
          "text": [
            "362/362 [==============================] - 2s 6ms/step - loss: 0.5281 - accuracy: 0.7464\n"
          ]
        },
        {
          "data": {
            "text/plain": [
              "[0.5281423330307007, 0.7463718056678772]"
            ]
          },
          "execution_count": 49,
          "metadata": {},
          "output_type": "execute_result"
        }
      ],
      "source": [
        "model.evaluate(test_dtm_2, test_target_2)"
      ]
    },
    {
      "cell_type": "markdown",
      "metadata": {
        "id": "8JSVjRY1gDzj"
      },
      "source": [
        "16) Extra: train/fine-tune a transformer-based model (e.g. BERT) on Gift Cards training reviews and evaluate it on the Gift Cards test reviews."
      ]
    }
  ],
  "metadata": {
    "colab": {
      "collapsed_sections": [],
      "name": "project-work-group-5.ipynb",
      "provenance": []
    },
    "kernelspec": {
      "display_name": "Python 3.8.13",
      "language": "python",
      "name": "python3"
    },
    "language_info": {
      "codemirror_mode": {
        "name": "ipython",
        "version": 3
      },
      "file_extension": ".py",
      "mimetype": "text/x-python",
      "name": "python",
      "nbconvert_exporter": "python",
      "pygments_lexer": "ipython3",
      "version": "3.8.13"
    },
    "vscode": {
      "interpreter": {
        "hash": "1354ba707f0632d7ff123f996a5c430e40356b81c6e5337c979334a76ce7600e"
      }
    }
  },
  "nbformat": 4,
  "nbformat_minor": 0
}
