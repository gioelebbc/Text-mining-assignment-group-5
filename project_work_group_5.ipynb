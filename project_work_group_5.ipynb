{
  "cells": [
    {
      "cell_type": "markdown",
      "metadata": {
        "id": "fzuf3cVHi6TS"
      },
      "source": [
        "# Text Mining Project Work (Group 5)\n",
        "\n",
        "**Text Classification and Sentiment Analysis**\n",
        "\n",
        "_Prof. Gianluca Moro, Dott. Ing. Nicola Piscaglia – DISI, University of Bologna_\n",
        "\n",
        "**Bologna Business School** - Alma Mater Studiorum Università di Bologna"
      ]
    },
    {
      "cell_type": "markdown",
      "metadata": {
        "id": "WOBjMeN9i6TV"
      },
      "source": [
        "## Instructions\n",
        "- The provided exercises must be executed by the students of Group 5\n",
        "- At the end, the file must contain all the required results (as code cell outputs) along with all the commands necessary to reproduce them; \n",
        "- The function of every command or group of related commands\n",
        "must be documented clearly and concisely. \n",
        "- The submission deadline is the 1st July 2022.\n",
        "- When finished, one team member will send the notebook file (having .ipynb extension) via mail (using your BBS email account) to the teacher (nicola.piscaglia@bbs.unibo.it) indicating “[BBS Teamwork] Your last names” as subject, also keeping an own copy of the file for safety.\n",
        "- You are allowed to consult the teaching material and to search the Web for quick reference. \n",
        "- If still in doubt about anything, ask the teacher\n",
        "- It is severely NOT allowed to communicate with other teams. Ask the teacher for any clarification about the exercises.\n",
        "- Each correctly developed point counts 2/30"
      ]
    },
    {
      "cell_type": "markdown",
      "metadata": {
        "id": "9APLha11i6TX"
      },
      "source": [
        "## Setup\n",
        "\n",
        "The following cell contains some necessary imports"
      ]
    },
    {
      "cell_type": "code",
      "execution_count": 5,
      "metadata": {
        "colab": {
          "base_uri": "https://localhost:8080/"
        },
        "id": "sQSnHTwOi6TZ",
        "outputId": "a146a441-a7e6-4285-c324-7ad5dd713e0f"
      },
      "outputs": [],
      "source": [
        "import numpy as np\n",
        "import pandas as pd\n",
        "import gzip\n",
        "import json\n",
        "import nltk\n",
        "from sklearn.model_selection import train_test_split\n",
        "from sklearn.feature_extraction.text import TfidfVectorizer\n",
        "from sklearn.svm import SVC\n",
        "from imblearn.under_sampling import RandomUnderSampler\n",
        "from sklearn.metrics import confusion_matrix, ConfusionMatrixDisplay\n",
        "import os\n",
        "from urllib.request import urlretrieve\n",
        "from statsmodels.stats.contingency_tables import mcnemar"
      ]
    },
    {
      "cell_type": "markdown",
      "metadata": {
        "id": "5dIq4xWzi6Th"
      },
      "source": [
        "Run the following to download the necessary files"
      ]
    },
    {
      "cell_type": "code",
      "execution_count": 6,
      "metadata": {
        "id": "GEUzfMXAi6Ti"
      },
      "outputs": [],
      "source": [
        "def download(file, url):\n",
        "    if not os.path.exists(file):\n",
        "        urlretrieve(url, file)"
      ]
    },
    {
      "cell_type": "code",
      "execution_count": 7,
      "metadata": {
        "id": "Rw7H0NU2z9dw"
      },
      "outputs": [],
      "source": [
        "download(\"Gift_Cards.json.gz\", \"https://www.dropbox.com/s/c87cjds263jt3sb/Gift_Cards.json.gz?dl=1\")"
      ]
    },
    {
      "cell_type": "code",
      "execution_count": 8,
      "metadata": {
        "id": "GvVE-DgxCqux"
      },
      "outputs": [],
      "source": [
        "download(\"Magazine_Subscriptions.json.gz\", \"https://www.dropbox.com/s/g6om8q8c8pvirw8/Magazine_Subscriptions.json.gz?dl=1\")"
      ]
    },
    {
      "cell_type": "code",
      "execution_count": 9,
      "metadata": {
        "colab": {
          "base_uri": "https://localhost:8080/"
        },
        "id": "T94vizGRi6Tq",
        "outputId": "a7dad42f-7d93-4dcf-9dd5-2aef4daeff5c"
      },
      "outputs": [
        {
          "name": "stderr",
          "output_type": "stream",
          "text": [
            "[nltk_data] Downloading package punkt to /Users/gioel/nltk_data...\n",
            "[nltk_data]   Package punkt is already up-to-date!\n"
          ]
        },
        {
          "data": {
            "text/plain": [
              "True"
            ]
          },
          "execution_count": 9,
          "metadata": {},
          "output_type": "execute_result"
        }
      ],
      "source": [
        "nltk.download(\"punkt\")"
      ]
    },
    {
      "cell_type": "markdown",
      "metadata": {
        "id": "HefuXgg9i6Tv"
      },
      "source": [
        "## Exercises\n",
        "\n",
        "1) We provide in the `Gift_Cards.json.gz` file a dataset composed by several reviews posted on Amazon.com about Gift cards products. \n",
        "Each review is labeled with a score between 1 and 5 stars (represented by the ```overall``` feature).\n",
        "\n",
        "The text of each review is represented by the ```reviewText``` feature which is going to be our input data along with the ```overall``` one.\n",
        "\n",
        "Load 100000 random reviews putting it in a new Pandas dataframe."
      ]
    },
    {
      "cell_type": "code",
      "execution_count": 29,
      "metadata": {},
      "outputs": [],
      "source": [
        "df = pd.read_json('Gift_cards.json.gz',lines = True,compression= 'gzip')\n",
        "df = df.sample(n = 100000)\n",
        "df = df.reset_index()\n"
      ]
    },
    {
      "cell_type": "markdown",
      "metadata": {
        "id": "YejpY-z8mMEf"
      },
      "source": [
        "2) Print the dataset rows number and visualize the first 5 rows."
      ]
    },
    {
      "cell_type": "code",
      "execution_count": 30,
      "metadata": {},
      "outputs": [
        {
          "data": {
            "text/html": [
              "<div>\n",
              "<style scoped>\n",
              "    .dataframe tbody tr th:only-of-type {\n",
              "        vertical-align: middle;\n",
              "    }\n",
              "\n",
              "    .dataframe tbody tr th {\n",
              "        vertical-align: top;\n",
              "    }\n",
              "\n",
              "    .dataframe thead th {\n",
              "        text-align: right;\n",
              "    }\n",
              "</style>\n",
              "<table border=\"1\" class=\"dataframe\">\n",
              "  <thead>\n",
              "    <tr style=\"text-align: right;\">\n",
              "      <th></th>\n",
              "      <th>index</th>\n",
              "      <th>overall</th>\n",
              "      <th>vote</th>\n",
              "      <th>verified</th>\n",
              "      <th>reviewTime</th>\n",
              "      <th>reviewerID</th>\n",
              "      <th>asin</th>\n",
              "      <th>style</th>\n",
              "      <th>reviewerName</th>\n",
              "      <th>reviewText</th>\n",
              "      <th>summary</th>\n",
              "      <th>unixReviewTime</th>\n",
              "      <th>image</th>\n",
              "    </tr>\n",
              "  </thead>\n",
              "  <tbody>\n",
              "    <tr>\n",
              "      <th>0</th>\n",
              "      <td>25890</td>\n",
              "      <td>5</td>\n",
              "      <td>NaN</td>\n",
              "      <td>True</td>\n",
              "      <td>01 22, 2016</td>\n",
              "      <td>AT2BNMCP26V6E</td>\n",
              "      <td>B004Q7CK9M</td>\n",
              "      <td>{'Gift Amount:': ' 15'}</td>\n",
              "      <td>Samantha Barbise</td>\n",
              "      <td>Great!</td>\n",
              "      <td>Five Stars</td>\n",
              "      <td>1453420800</td>\n",
              "      <td>NaN</td>\n",
              "    </tr>\n",
              "    <tr>\n",
              "      <th>1</th>\n",
              "      <td>103467</td>\n",
              "      <td>5</td>\n",
              "      <td>NaN</td>\n",
              "      <td>True</td>\n",
              "      <td>02 25, 2017</td>\n",
              "      <td>A12IYOMV4YWM5K</td>\n",
              "      <td>B00JDQJZWG</td>\n",
              "      <td>{'Gift Amount:': ' 50'}</td>\n",
              "      <td>Princess</td>\n",
              "      <td>Nice presentation.  A surprising way to give t...</td>\n",
              "      <td>Nice presentation. A surprising way to give th...</td>\n",
              "      <td>1487980800</td>\n",
              "      <td>NaN</td>\n",
              "    </tr>\n",
              "    <tr>\n",
              "      <th>2</th>\n",
              "      <td>21900</td>\n",
              "      <td>5</td>\n",
              "      <td>NaN</td>\n",
              "      <td>True</td>\n",
              "      <td>02 21, 2018</td>\n",
              "      <td>A2LSIAFIOJVQ2G</td>\n",
              "      <td>B004LLIKVU</td>\n",
              "      <td>{'Gift Amount:': ' 50'}</td>\n",
              "      <td>Jayson Nash</td>\n",
              "      <td>Perfect way to send a thank you to a customer!</td>\n",
              "      <td>Five Stars</td>\n",
              "      <td>1519171200</td>\n",
              "      <td>NaN</td>\n",
              "    </tr>\n",
              "    <tr>\n",
              "      <th>3</th>\n",
              "      <td>26694</td>\n",
              "      <td>5</td>\n",
              "      <td>NaN</td>\n",
              "      <td>True</td>\n",
              "      <td>11 25, 2015</td>\n",
              "      <td>A21C225U9EAAPE</td>\n",
              "      <td>B004Q7CK9M</td>\n",
              "      <td>{'Gift Amount:': ' 20'}</td>\n",
              "      <td>katzrule</td>\n",
              "      <td>Love the card, will be used as Christmas gift.</td>\n",
              "      <td>Five Stars</td>\n",
              "      <td>1448409600</td>\n",
              "      <td>NaN</td>\n",
              "    </tr>\n",
              "    <tr>\n",
              "      <th>4</th>\n",
              "      <td>4199</td>\n",
              "      <td>5</td>\n",
              "      <td>NaN</td>\n",
              "      <td>True</td>\n",
              "      <td>03 16, 2012</td>\n",
              "      <td>AHXBE7Y9TMMSM</td>\n",
              "      <td>B004KNWX6C</td>\n",
              "      <td>NaN</td>\n",
              "      <td>Big Al</td>\n",
              "      <td>The printable gift card was so easy to carry o...</td>\n",
              "      <td>Printable gift card</td>\n",
              "      <td>1331856000</td>\n",
              "      <td>NaN</td>\n",
              "    </tr>\n",
              "  </tbody>\n",
              "</table>\n",
              "</div>"
            ],
            "text/plain": [
              "    index  overall vote  verified   reviewTime      reviewerID        asin  \\\n",
              "0   25890        5  NaN      True  01 22, 2016   AT2BNMCP26V6E  B004Q7CK9M   \n",
              "1  103467        5  NaN      True  02 25, 2017  A12IYOMV4YWM5K  B00JDQJZWG   \n",
              "2   21900        5  NaN      True  02 21, 2018  A2LSIAFIOJVQ2G  B004LLIKVU   \n",
              "3   26694        5  NaN      True  11 25, 2015  A21C225U9EAAPE  B004Q7CK9M   \n",
              "4    4199        5  NaN      True  03 16, 2012   AHXBE7Y9TMMSM  B004KNWX6C   \n",
              "\n",
              "                     style      reviewerName  \\\n",
              "0  {'Gift Amount:': ' 15'}  Samantha Barbise   \n",
              "1  {'Gift Amount:': ' 50'}          Princess   \n",
              "2  {'Gift Amount:': ' 50'}       Jayson Nash   \n",
              "3  {'Gift Amount:': ' 20'}          katzrule   \n",
              "4                      NaN            Big Al   \n",
              "\n",
              "                                          reviewText  \\\n",
              "0                                             Great!   \n",
              "1  Nice presentation.  A surprising way to give t...   \n",
              "2     Perfect way to send a thank you to a customer!   \n",
              "3     Love the card, will be used as Christmas gift.   \n",
              "4  The printable gift card was so easy to carry o...   \n",
              "\n",
              "                                             summary  unixReviewTime image  \n",
              "0                                         Five Stars      1453420800   NaN  \n",
              "1  Nice presentation. A surprising way to give th...      1487980800   NaN  \n",
              "2                                         Five Stars      1519171200   NaN  \n",
              "3                                         Five Stars      1448409600   NaN  \n",
              "4                                Printable gift card      1331856000   NaN  "
            ]
          },
          "execution_count": 30,
          "metadata": {},
          "output_type": "execute_result"
        }
      ],
      "source": [
        "df.head()"
      ]
    },
    {
      "cell_type": "markdown",
      "metadata": {
        "id": "hooSUzWZmRJM"
      },
      "source": [
        "3) Undersample the data by `overall` feature in order to obtain a class-balanced dataset.\n",
        "\n"
      ]
    },
    {
      "cell_type": "code",
      "execution_count": 31,
      "metadata": {},
      "outputs": [],
      "source": [
        "rus = RandomUnderSampler(random_state=42)\n",
        "df,_ = rus.fit_resample(df, df[\"overall\"])"
      ]
    },
    {
      "cell_type": "markdown",
      "metadata": {
        "id": "jbaY-6hxnY5L"
      },
      "source": [
        "4) Cast the `reviewText` column to unicode string\n",
        "\n"
      ]
    },
    {
      "cell_type": "code",
      "execution_count": 33,
      "metadata": {},
      "outputs": [],
      "source": [
        "df[\"reviewText\"] = df[\"reviewText\"].values.astype('U')"
      ]
    },
    {
      "cell_type": "markdown",
      "metadata": {
        "id": "_7uRHPMRS2oj"
      },
      "source": [
        "**5)** Select from data only the features named ```reviewText``` and ```overall``` putting them in a dataframe\n",
        "\n",
        "\n",
        "\n"
      ]
    },
    {
      "cell_type": "code",
      "execution_count": 34,
      "metadata": {},
      "outputs": [],
      "source": [
        "df = df[['reviewText', 'overall']]"
      ]
    },
    {
      "cell_type": "markdown",
      "metadata": {
        "id": "jLk7gkZji6UB"
      },
      "source": [
        "**6)** Verify the distribution of the number of stars"
      ]
    },
    {
      "cell_type": "code",
      "execution_count": 35,
      "metadata": {},
      "outputs": [
        {
          "data": {
            "text/plain": [
              "1    1104\n",
              "2    1104\n",
              "3    1104\n",
              "4    1104\n",
              "5    1104\n",
              "Name: overall, dtype: int64"
            ]
          },
          "execution_count": 35,
          "metadata": {},
          "output_type": "execute_result"
        }
      ],
      "source": [
        "df[\"overall\"].value_counts()"
      ]
    },
    {
      "cell_type": "markdown",
      "metadata": {
        "id": "h7TL47guxDsK"
      },
      "source": [
        "**7)** Remove from the dataframe the reviews rated with 3 stars."
      ]
    },
    {
      "cell_type": "code",
      "execution_count": 37,
      "metadata": {},
      "outputs": [],
      "source": [
        "df = df[df['overall']!= 3]"
      ]
    },
    {
      "cell_type": "code",
      "execution_count": 38,
      "metadata": {},
      "outputs": [
        {
          "data": {
            "text/plain": [
              "array([1, 2, 4, 5])"
            ]
          },
          "execution_count": 38,
          "metadata": {},
          "output_type": "execute_result"
        }
      ],
      "source": [
        "df['overall'].unique()"
      ]
    },
    {
      "cell_type": "markdown",
      "metadata": {
        "id": "c5JNI0iWi6UH"
      },
      "source": [
        "**8)** Add a `label` column to the DataFrame whose value is `\"pos\"` for reviews with 4 or 5 stars and `\"neg\"` for reviews with 1 or 2 stars."
      ]
    },
    {
      "cell_type": "code",
      "execution_count": 39,
      "metadata": {},
      "outputs": [
        {
          "data": {
            "text/html": [
              "<div>\n",
              "<style scoped>\n",
              "    .dataframe tbody tr th:only-of-type {\n",
              "        vertical-align: middle;\n",
              "    }\n",
              "\n",
              "    .dataframe tbody tr th {\n",
              "        vertical-align: top;\n",
              "    }\n",
              "\n",
              "    .dataframe thead th {\n",
              "        text-align: right;\n",
              "    }\n",
              "</style>\n",
              "<table border=\"1\" class=\"dataframe\">\n",
              "  <thead>\n",
              "    <tr style=\"text-align: right;\">\n",
              "      <th></th>\n",
              "      <th>reviewText</th>\n",
              "      <th>overall</th>\n",
              "      <th>label</th>\n",
              "    </tr>\n",
              "  </thead>\n",
              "  <tbody>\n",
              "    <tr>\n",
              "      <th>0</th>\n",
              "      <td>Could not redeem.</td>\n",
              "      <td>1</td>\n",
              "      <td>neg</td>\n",
              "    </tr>\n",
              "    <tr>\n",
              "      <th>1</th>\n",
              "      <td>Do not buy this product!!!\\nIf an error occurs...</td>\n",
              "      <td>1</td>\n",
              "      <td>neg</td>\n",
              "    </tr>\n",
              "    <tr>\n",
              "      <th>2</th>\n",
              "      <td>I had purchased this gift card as a gift to a ...</td>\n",
              "      <td>1</td>\n",
              "      <td>neg</td>\n",
              "    </tr>\n",
              "    <tr>\n",
              "      <th>3</th>\n",
              "      <td>Card was sent without being loaded with the am...</td>\n",
              "      <td>1</td>\n",
              "      <td>neg</td>\n",
              "    </tr>\n",
              "    <tr>\n",
              "      <th>4</th>\n",
              "      <td>WATCH OUT !!! DID NOT WORK - had to pay with m...</td>\n",
              "      <td>1</td>\n",
              "      <td>neg</td>\n",
              "    </tr>\n",
              "  </tbody>\n",
              "</table>\n",
              "</div>"
            ],
            "text/plain": [
              "                                          reviewText  overall label\n",
              "0                                  Could not redeem.        1   neg\n",
              "1  Do not buy this product!!!\\nIf an error occurs...        1   neg\n",
              "2  I had purchased this gift card as a gift to a ...        1   neg\n",
              "3  Card was sent without being loaded with the am...        1   neg\n",
              "4  WATCH OUT !!! DID NOT WORK - had to pay with m...        1   neg"
            ]
          },
          "execution_count": 39,
          "metadata": {},
          "output_type": "execute_result"
        }
      ],
      "source": [
        "def mapToLabel(value):\n",
        "  if value >= 4:\n",
        "    return \"pos\"\n",
        "  elif value <= 2:\n",
        "    return \"neg\"\n",
        "\n",
        "df[\"label\"] = df[\"overall\"].apply(mapToLabel)\n",
        "\n",
        "df.head() "
      ]
    },
    {
      "cell_type": "markdown",
      "metadata": {
        "id": "gk3O4Igei6UK"
      },
      "source": [
        "**9)** Split the dataset randomly into a training set with 80% of data and a test set with the remaining 20%, stratifying the split by the `label` variable"
      ]
    },
    {
      "cell_type": "code",
      "execution_count": 40,
      "metadata": {},
      "outputs": [
        {
          "name": "stdout",
          "output_type": "stream",
          "text": [
            "training set shape: (3532,)\n",
            "Test set shape: (884,)\n"
          ]
        }
      ],
      "source": [
        "y = df[\"label\"]\n",
        "X = df[\"reviewText\"]\n",
        "X_train, X_test, y_train, y_test = train_test_split(X, y, test_size=0.2, random_state=42, stratify=y)\n",
        "\n",
        "print(\"training set shape: \" + str(X_train.shape))\n",
        "print(\"Test set shape: \" + str(X_test.shape))"
      ]
    },
    {
      "cell_type": "markdown",
      "metadata": {
        "id": "BLD_buBZi6U6"
      },
      "source": [
        "**10)** Create a tf.idf vector space model from training reviews excluding words appearing in less than 7 documents and using only unigrams. Then, extract the document-term matrix for them."
      ]
    },
    {
      "cell_type": "code",
      "execution_count": 41,
      "metadata": {},
      "outputs": [],
      "source": [
        "vect = TfidfVectorizer(min_df=7, ngram_range=(1,1))\n",
        "train_dtm = vect.fit_transform(X_train)"
      ]
    },
    {
      "cell_type": "markdown",
      "metadata": {
        "id": "F7Xy6Oymi6VC"
      },
      "source": [
        "**11)** Train a Support Vector Machine of your choice on the training reviews with a regularization parameter equals to 5, using the representation created above"
      ]
    },
    {
      "cell_type": "markdown",
      "metadata": {
        "id": "K1gSb6gDi6VM"
      },
      "source": [
        "**12)** Verify the accuracy of the classifier on the test set and try to maximize it tuning the Support Vector Machine kernel and regularization factor."
      ]
    },
    {
      "cell_type": "markdown",
      "metadata": {
        "id": "mkzzstKZpMcr"
      },
      "source": [
        "**13)** Train a Deep Learning model (excluding transformer-based models like BERT) using the document-term representation built in point 10. The usage of recurrent layers is up to you."
      ]
    },
    {
      "cell_type": "markdown",
      "metadata": {
        "id": "DiEkWRCnabhk"
      },
      "source": [
        "14) Evaluate the model calculating the accuracy on test data. Try to maximize the model accuracy by tuning the neural network. "
      ]
    },
    {
      "cell_type": "markdown",
      "metadata": {
        "id": "SiJ79SjqCVRf"
      },
      "source": [
        "15) Evaluate the DL trained model on 50000 random reviews from the dataset in `Magazine_Subscriptions.json.gz` file.\n",
        "\n",
        "Hint: you have to repeat the preprocessing steps done in the previous steps for the Gift cards reviews."
      ]
    },
    {
      "cell_type": "markdown",
      "metadata": {
        "id": "8JSVjRY1gDzj"
      },
      "source": [
        "16) Extra: train/fine-tune a transformer-based model (e.g. BERT) on Gift Cards training reviews and evaluate it on the Gift Cards test reviews."
      ]
    }
  ],
  "metadata": {
    "colab": {
      "collapsed_sections": [],
      "name": "project-work-group-5.ipynb",
      "provenance": []
    },
    "kernelspec": {
      "display_name": "Python 3.8.13",
      "language": "python",
      "name": "python3"
    },
    "language_info": {
      "codemirror_mode": {
        "name": "ipython",
        "version": 3
      },
      "file_extension": ".py",
      "mimetype": "text/x-python",
      "name": "python",
      "nbconvert_exporter": "python",
      "pygments_lexer": "ipython3",
      "version": "3.8.13"
    },
    "vscode": {
      "interpreter": {
        "hash": "1354ba707f0632d7ff123f996a5c430e40356b81c6e5337c979334a76ce7600e"
      }
    }
  },
  "nbformat": 4,
  "nbformat_minor": 0
}
